{
 "cells": [
  {
   "cell_type": "code",
   "execution_count": null,
   "metadata": {},
   "outputs": [],
   "source": [
    "import re\n",
    "import pandas as pd\n",
    "\n",
    "# Define a regular expression pattern to match the URL part we are interested in\n",
    "url_pattern = r\"(?i)(?<=https?://)(?:[a-z0-9]+[\\-\\.])+[a-z]{2,}(?::[0-9]{1,5})?(?:/[^\\s]*)?\"\n",
    "\n",
    "def extract_url_by_device_type(df, device_type):\n",
    "    # Filter the dataframe by device type\n",
    "    device_df = df[df['Device_Type'] == device_type]\n",
    "    \n",
    "    # Apply the regular expression pattern to the Stats_Access_Link column\n",
    "    device_df['URL'] = device_df['Stats_Access_Link'].apply(lambda x: re.search(url_pattern, x).group(0) if re.search(url_pattern, x) else None)\n",
    "    \n",
    "    return device_df\n",
    "\n"
   ]
  },
  {
   "attachments": {},
   "cell_type": "markdown",
   "metadata": {},
   "source": [
    "In this implementation, we first define a regular expression pattern url_pattern that matches the URL part we are interested in. This pattern uses lookbehind to find the protocol part (http or https) and then matches any alpha-numeric, case insensitive characters, underscore, or dot characters that come after it.\n",
    "\n",
    "We then define the extract_url_by_device_type function, which takes a dataframe df and a device type device_type as input. It first filters the dataframe by the given device type, and then applies the url_pattern regular expression to the Stats_Access_Link column using the apply method. If a match is found, the function uses the group(0) method to extract the matched string, which is the pure URL information we are interested in. If no match is found, the function returns None."
   ]
  }
 ],
 "metadata": {
  "language_info": {
   "name": "python"
  },
  "orig_nbformat": 4
 },
 "nbformat": 4,
 "nbformat_minor": 2
}
